{
 "cells": [
  {
   "cell_type": "markdown",
   "id": "e30e0c5e",
   "metadata": {},
   "source": [
    "# แสดง boxplot ของราคาปิดของหุ้นแต่ละตัว\n",
    "\n",
    "ในส่วนนี้เราจะสร้างกราฟ boxplot เพื่อเปรียบเทียบการกระจายตัวของราคาปิด (Close) ของหุ้น NVIDIA, META และ Tesla"
   ]
  },
  {
   "cell_type": "markdown",
   "id": "48a01503",
   "metadata": {},
   "source": [
    "## 1. นำเข้าไลบรารีสำหรับการสร้างกราฟ\n",
    "\n",
    "เราจะใช้ matplotlib และ seaborn สำหรับการสร้าง boxplot"
   ]
  },
  {
   "cell_type": "code",
   "execution_count": null,
   "id": "71ec4e9b",
   "metadata": {},
   "outputs": [],
   "source": [
    "import matplotlib.pyplot as plt\n",
    "import seaborn as sns"
   ]
  },
  {
   "cell_type": "markdown",
   "id": "484a4ce6",
   "metadata": {},
   "source": [
    "## 2. สร้าง boxplot ของราคาปิด (Close) สำหรับหุ้นแต่ละตัว\n",
    "\n",
    "นำข้อมูลราคาปิดของแต่ละหุ้นมาสร้าง boxplot เพื่อเปรียบเทียบการกระจายตัว"
   ]
  },
  {
   "cell_type": "code",
   "execution_count": null,
   "id": "61da0127",
   "metadata": {},
   "outputs": [],
   "source": [
    "# เตรียมข้อมูลราคาปิด\n",
    "close_data = {\n",
    "    'NVIDIA': nvidia['Close'],\n",
    "    'META': meta['Close'],\n",
    "    'Tesla': tesla['Close']\n",
    "}\n",
    "\n",
    "# สร้าง boxplot\n",
    "plt.figure(figsize=(10, 6))\n",
    "sns.boxplot(data=list(close_data.values()), orient='v')\n",
    "plt.xticks([0, 1, 2], list(close_data.keys()))\n",
    "plt.title('Boxplot ของราคาปิดหุ้นแต่ละตัว')\n",
    "plt.ylabel('ราคาปิด (Close)')\n",
    "plt.xlabel('หุ้น')\n",
    "plt.show()"
   ]
  }
 ],
 "metadata": {
  "kernelspec": {
   "display_name": "Python 3",
   "language": "python",
   "name": "python3"
  },
  "language_info": {
   "name": "python",
   "version": "3.11.9"
  }
 },
 "nbformat": 4,
 "nbformat_minor": 5
}
